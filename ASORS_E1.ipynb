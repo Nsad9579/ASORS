{
  "nbformat": 4,
  "nbformat_minor": 0,
  "metadata": {
    "colab": {
      "name": "ASORS-E1.ipynb",
      "provenance": [],
      "collapsed_sections": [],
      "authorship_tag": "ABX9TyMhwAR8PtqKO80qZqHzt79U",
      "include_colab_link": true
    },
    "kernelspec": {
      "name": "python3",
      "display_name": "Python 3"
    },
    "language_info": {
      "name": "python"
    }
  },
  "cells": [
    {
      "cell_type": "markdown",
      "metadata": {
        "id": "view-in-github",
        "colab_type": "text"
      },
      "source": [
        "<a href=\"https://colab.research.google.com/github/Nsad9579/ASORS/blob/main/ASORS_E1.ipynb\" target=\"_parent\"><img src=\"https://colab.research.google.com/assets/colab-badge.svg\" alt=\"Open In Colab\"/></a>"
      ]
    },
    {
      "cell_type": "code",
      "execution_count": 1,
      "metadata": {
        "id": "uoPlMw-YM6Nm",
        "colab": {
          "base_uri": "https://localhost:8080/"
        },
        "outputId": "e8c3ce29-070f-4a71-a130-3a2c3605b2fe"
      },
      "outputs": [
        {
          "output_type": "stream",
          "name": "stdout",
          "text": [
            "[nltk_data] Downloading package stopwords to /root/nltk_data...\n",
            "[nltk_data]   Unzipping corpora/stopwords.zip.\n"
          ]
        },
        {
          "output_type": "execute_result",
          "data": {
            "text/plain": [
              "True"
            ]
          },
          "metadata": {},
          "execution_count": 1
        }
      ],
      "source": [
        "import pandas as pd\n",
        "import numpy as np \n",
        "import re\n",
        "import nltk\n",
        "nltk.download('stopwords')"
      ]
    },
    {
      "cell_type": "markdown",
      "source": [
        "#DATA\n",
        "\n",
        "\n",
        "\n"
      ],
      "metadata": {
        "id": "8Jco6w24SqTl"
      }
    },
    {
      "cell_type": "code",
      "source": [
        "with open('/content/Cereals_Relevant.txt', 'r') as F:\n",
        "  contents=F.read()\n",
        "\n",
        "content=re.sub(r'\\n','', contents)\n"
      ],
      "metadata": {
        "id": "TIIHzJYZRXgm"
      },
      "execution_count": 2,
      "outputs": []
    },
    {
      "cell_type": "code",
      "source": [
        "types=re.findall(r'@(\\w.*){',contents)\n",
        "years=re.findall(r'year = {(\\w.*)}',contents)\n",
        "titles=re.findall(r' title = {(.*)}',contents)"
      ],
      "metadata": {
        "id": "QXgu0k9JSppl"
      },
      "execution_count": 3,
      "outputs": []
    },
    {
      "cell_type": "code",
      "source": [
        "data= {'type':types,'years':years,'title':titles}\n",
        "df_relevant=pd.DataFrame(data)\n"
      ],
      "metadata": {
        "id": "ZPnVGCQlTJGX"
      },
      "execution_count": 4,
      "outputs": []
    },
    {
      "cell_type": "code",
      "source": [
        "with open('/content/Cereals_NotRelevant.txt', 'r') as F2:\n",
        "  contents2=F2.read()"
      ],
      "metadata": {
        "id": "msQDAX1vTus0"
      },
      "execution_count": 5,
      "outputs": []
    },
    {
      "cell_type": "code",
      "source": [
        "types2=re.findall(r'@(\\w.*){',contents2)\n",
        "years2=re.findall(r'year = {(\\w.*)}',contents2)\n",
        "titles2=re.findall(r' title = {(.*)}',contents2)"
      ],
      "metadata": {
        "id": "Excr_aBLUm9E"
      },
      "execution_count": 6,
      "outputs": []
    },
    {
      "cell_type": "code",
      "source": [
        "data2= {'type':types2,'years':years2,'title':titles2}\n",
        "df_notrelevant=pd.DataFrame(data2)"
      ],
      "metadata": {
        "id": "C0adRe8hUo5c"
      },
      "execution_count": 7,
      "outputs": []
    },
    {
      "cell_type": "code",
      "source": [
        "target_relevant=[1 for i in range(297)]\n",
        "target_notrelevant=[0 for i in range(387)]"
      ],
      "metadata": {
        "id": "nQ4GPxC1VsHI"
      },
      "execution_count": 8,
      "outputs": []
    },
    {
      "cell_type": "code",
      "source": [
        "df_relevant.insert(3,\"target\",target_relevant)\n",
        "df_relevant.head()"
      ],
      "metadata": {
        "colab": {
          "base_uri": "https://localhost:8080/",
          "height": 206
        },
        "id": "ZZ2MeXnwW6Cw",
        "outputId": "be68fc33-d22c-446a-f815-5bb50b99b643"
      },
      "execution_count": 9,
      "outputs": [
        {
          "output_type": "execute_result",
          "data": {
            "text/plain": [
              "      type years                                              title  target\n",
              "0  article  2013  Speciation analysis using HPLC-ICP-MS: Arsenic...       1\n",
              "1  article  2014     FDA data show arsenic in rice, juice, and beer       1\n",
              "2  article  2017  Uncommon toxic microbial metabolite patterns i...       1\n",
              "3  article  2017  Heavy metals (As, Cr, Pb, Cd and Ni) concentra...       1\n",
              "4  article  2018  Mycobiota and co-occurrence of mycotoxins in S...       1"
            ],
            "text/html": [
              "\n",
              "  <div id=\"df-ecb115cc-f992-4c15-b029-4419d3ac98f9\">\n",
              "    <div class=\"colab-df-container\">\n",
              "      <div>\n",
              "<style scoped>\n",
              "    .dataframe tbody tr th:only-of-type {\n",
              "        vertical-align: middle;\n",
              "    }\n",
              "\n",
              "    .dataframe tbody tr th {\n",
              "        vertical-align: top;\n",
              "    }\n",
              "\n",
              "    .dataframe thead th {\n",
              "        text-align: right;\n",
              "    }\n",
              "</style>\n",
              "<table border=\"1\" class=\"dataframe\">\n",
              "  <thead>\n",
              "    <tr style=\"text-align: right;\">\n",
              "      <th></th>\n",
              "      <th>type</th>\n",
              "      <th>years</th>\n",
              "      <th>title</th>\n",
              "      <th>target</th>\n",
              "    </tr>\n",
              "  </thead>\n",
              "  <tbody>\n",
              "    <tr>\n",
              "      <th>0</th>\n",
              "      <td>article</td>\n",
              "      <td>2013</td>\n",
              "      <td>Speciation analysis using HPLC-ICP-MS: Arsenic...</td>\n",
              "      <td>1</td>\n",
              "    </tr>\n",
              "    <tr>\n",
              "      <th>1</th>\n",
              "      <td>article</td>\n",
              "      <td>2014</td>\n",
              "      <td>FDA data show arsenic in rice, juice, and beer</td>\n",
              "      <td>1</td>\n",
              "    </tr>\n",
              "    <tr>\n",
              "      <th>2</th>\n",
              "      <td>article</td>\n",
              "      <td>2017</td>\n",
              "      <td>Uncommon toxic microbial metabolite patterns i...</td>\n",
              "      <td>1</td>\n",
              "    </tr>\n",
              "    <tr>\n",
              "      <th>3</th>\n",
              "      <td>article</td>\n",
              "      <td>2017</td>\n",
              "      <td>Heavy metals (As, Cr, Pb, Cd and Ni) concentra...</td>\n",
              "      <td>1</td>\n",
              "    </tr>\n",
              "    <tr>\n",
              "      <th>4</th>\n",
              "      <td>article</td>\n",
              "      <td>2018</td>\n",
              "      <td>Mycobiota and co-occurrence of mycotoxins in S...</td>\n",
              "      <td>1</td>\n",
              "    </tr>\n",
              "  </tbody>\n",
              "</table>\n",
              "</div>\n",
              "      <button class=\"colab-df-convert\" onclick=\"convertToInteractive('df-ecb115cc-f992-4c15-b029-4419d3ac98f9')\"\n",
              "              title=\"Convert this dataframe to an interactive table.\"\n",
              "              style=\"display:none;\">\n",
              "        \n",
              "  <svg xmlns=\"http://www.w3.org/2000/svg\" height=\"24px\"viewBox=\"0 0 24 24\"\n",
              "       width=\"24px\">\n",
              "    <path d=\"M0 0h24v24H0V0z\" fill=\"none\"/>\n",
              "    <path d=\"M18.56 5.44l.94 2.06.94-2.06 2.06-.94-2.06-.94-.94-2.06-.94 2.06-2.06.94zm-11 1L8.5 8.5l.94-2.06 2.06-.94-2.06-.94L8.5 2.5l-.94 2.06-2.06.94zm10 10l.94 2.06.94-2.06 2.06-.94-2.06-.94-.94-2.06-.94 2.06-2.06.94z\"/><path d=\"M17.41 7.96l-1.37-1.37c-.4-.4-.92-.59-1.43-.59-.52 0-1.04.2-1.43.59L10.3 9.45l-7.72 7.72c-.78.78-.78 2.05 0 2.83L4 21.41c.39.39.9.59 1.41.59.51 0 1.02-.2 1.41-.59l7.78-7.78 2.81-2.81c.8-.78.8-2.07 0-2.86zM5.41 20L4 18.59l7.72-7.72 1.47 1.35L5.41 20z\"/>\n",
              "  </svg>\n",
              "      </button>\n",
              "      \n",
              "  <style>\n",
              "    .colab-df-container {\n",
              "      display:flex;\n",
              "      flex-wrap:wrap;\n",
              "      gap: 12px;\n",
              "    }\n",
              "\n",
              "    .colab-df-convert {\n",
              "      background-color: #E8F0FE;\n",
              "      border: none;\n",
              "      border-radius: 50%;\n",
              "      cursor: pointer;\n",
              "      display: none;\n",
              "      fill: #1967D2;\n",
              "      height: 32px;\n",
              "      padding: 0 0 0 0;\n",
              "      width: 32px;\n",
              "    }\n",
              "\n",
              "    .colab-df-convert:hover {\n",
              "      background-color: #E2EBFA;\n",
              "      box-shadow: 0px 1px 2px rgba(60, 64, 67, 0.3), 0px 1px 3px 1px rgba(60, 64, 67, 0.15);\n",
              "      fill: #174EA6;\n",
              "    }\n",
              "\n",
              "    [theme=dark] .colab-df-convert {\n",
              "      background-color: #3B4455;\n",
              "      fill: #D2E3FC;\n",
              "    }\n",
              "\n",
              "    [theme=dark] .colab-df-convert:hover {\n",
              "      background-color: #434B5C;\n",
              "      box-shadow: 0px 1px 3px 1px rgba(0, 0, 0, 0.15);\n",
              "      filter: drop-shadow(0px 1px 2px rgba(0, 0, 0, 0.3));\n",
              "      fill: #FFFFFF;\n",
              "    }\n",
              "  </style>\n",
              "\n",
              "      <script>\n",
              "        const buttonEl =\n",
              "          document.querySelector('#df-ecb115cc-f992-4c15-b029-4419d3ac98f9 button.colab-df-convert');\n",
              "        buttonEl.style.display =\n",
              "          google.colab.kernel.accessAllowed ? 'block' : 'none';\n",
              "\n",
              "        async function convertToInteractive(key) {\n",
              "          const element = document.querySelector('#df-ecb115cc-f992-4c15-b029-4419d3ac98f9');\n",
              "          const dataTable =\n",
              "            await google.colab.kernel.invokeFunction('convertToInteractive',\n",
              "                                                     [key], {});\n",
              "          if (!dataTable) return;\n",
              "\n",
              "          const docLinkHtml = 'Like what you see? Visit the ' +\n",
              "            '<a target=\"_blank\" href=https://colab.research.google.com/notebooks/data_table.ipynb>data table notebook</a>'\n",
              "            + ' to learn more about interactive tables.';\n",
              "          element.innerHTML = '';\n",
              "          dataTable['output_type'] = 'display_data';\n",
              "          await google.colab.output.renderOutput(dataTable, element);\n",
              "          const docLink = document.createElement('div');\n",
              "          docLink.innerHTML = docLinkHtml;\n",
              "          element.appendChild(docLink);\n",
              "        }\n",
              "      </script>\n",
              "    </div>\n",
              "  </div>\n",
              "  "
            ]
          },
          "metadata": {},
          "execution_count": 9
        }
      ]
    },
    {
      "cell_type": "code",
      "source": [
        "df_notrelevant.insert(3,\"target\",target_notrelevant)\n",
        "df_notrelevant.head()"
      ],
      "metadata": {
        "colab": {
          "base_uri": "https://localhost:8080/",
          "height": 206
        },
        "id": "lWxUOj38XbJg",
        "outputId": "646c43d6-7af0-4782-89e8-cba79408838a"
      },
      "execution_count": 10,
      "outputs": [
        {
          "output_type": "execute_result",
          "data": {
            "text/plain": [
              "      type years                                              title  target\n",
              "0  article  2017  The long-term consumption of oats in celiac di...       0\n",
              "1  article  2012  Effects of exposure to rice-crop residue burni...       0\n",
              "2  article  2013  Health risk assessment of pesticides residue i...       0\n",
              "3  article  2015  Carcinogenic and non-carcinogenic risk of orga...       0\n",
              "4  article  2018  Molecular heterogeneity in the 18s DNA gene of...       0"
            ],
            "text/html": [
              "\n",
              "  <div id=\"df-5bbf4dce-9ae8-486e-aeb2-3d0e627133b3\">\n",
              "    <div class=\"colab-df-container\">\n",
              "      <div>\n",
              "<style scoped>\n",
              "    .dataframe tbody tr th:only-of-type {\n",
              "        vertical-align: middle;\n",
              "    }\n",
              "\n",
              "    .dataframe tbody tr th {\n",
              "        vertical-align: top;\n",
              "    }\n",
              "\n",
              "    .dataframe thead th {\n",
              "        text-align: right;\n",
              "    }\n",
              "</style>\n",
              "<table border=\"1\" class=\"dataframe\">\n",
              "  <thead>\n",
              "    <tr style=\"text-align: right;\">\n",
              "      <th></th>\n",
              "      <th>type</th>\n",
              "      <th>years</th>\n",
              "      <th>title</th>\n",
              "      <th>target</th>\n",
              "    </tr>\n",
              "  </thead>\n",
              "  <tbody>\n",
              "    <tr>\n",
              "      <th>0</th>\n",
              "      <td>article</td>\n",
              "      <td>2017</td>\n",
              "      <td>The long-term consumption of oats in celiac di...</td>\n",
              "      <td>0</td>\n",
              "    </tr>\n",
              "    <tr>\n",
              "      <th>1</th>\n",
              "      <td>article</td>\n",
              "      <td>2012</td>\n",
              "      <td>Effects of exposure to rice-crop residue burni...</td>\n",
              "      <td>0</td>\n",
              "    </tr>\n",
              "    <tr>\n",
              "      <th>2</th>\n",
              "      <td>article</td>\n",
              "      <td>2013</td>\n",
              "      <td>Health risk assessment of pesticides residue i...</td>\n",
              "      <td>0</td>\n",
              "    </tr>\n",
              "    <tr>\n",
              "      <th>3</th>\n",
              "      <td>article</td>\n",
              "      <td>2015</td>\n",
              "      <td>Carcinogenic and non-carcinogenic risk of orga...</td>\n",
              "      <td>0</td>\n",
              "    </tr>\n",
              "    <tr>\n",
              "      <th>4</th>\n",
              "      <td>article</td>\n",
              "      <td>2018</td>\n",
              "      <td>Molecular heterogeneity in the 18s DNA gene of...</td>\n",
              "      <td>0</td>\n",
              "    </tr>\n",
              "  </tbody>\n",
              "</table>\n",
              "</div>\n",
              "      <button class=\"colab-df-convert\" onclick=\"convertToInteractive('df-5bbf4dce-9ae8-486e-aeb2-3d0e627133b3')\"\n",
              "              title=\"Convert this dataframe to an interactive table.\"\n",
              "              style=\"display:none;\">\n",
              "        \n",
              "  <svg xmlns=\"http://www.w3.org/2000/svg\" height=\"24px\"viewBox=\"0 0 24 24\"\n",
              "       width=\"24px\">\n",
              "    <path d=\"M0 0h24v24H0V0z\" fill=\"none\"/>\n",
              "    <path d=\"M18.56 5.44l.94 2.06.94-2.06 2.06-.94-2.06-.94-.94-2.06-.94 2.06-2.06.94zm-11 1L8.5 8.5l.94-2.06 2.06-.94-2.06-.94L8.5 2.5l-.94 2.06-2.06.94zm10 10l.94 2.06.94-2.06 2.06-.94-2.06-.94-.94-2.06-.94 2.06-2.06.94z\"/><path d=\"M17.41 7.96l-1.37-1.37c-.4-.4-.92-.59-1.43-.59-.52 0-1.04.2-1.43.59L10.3 9.45l-7.72 7.72c-.78.78-.78 2.05 0 2.83L4 21.41c.39.39.9.59 1.41.59.51 0 1.02-.2 1.41-.59l7.78-7.78 2.81-2.81c.8-.78.8-2.07 0-2.86zM5.41 20L4 18.59l7.72-7.72 1.47 1.35L5.41 20z\"/>\n",
              "  </svg>\n",
              "      </button>\n",
              "      \n",
              "  <style>\n",
              "    .colab-df-container {\n",
              "      display:flex;\n",
              "      flex-wrap:wrap;\n",
              "      gap: 12px;\n",
              "    }\n",
              "\n",
              "    .colab-df-convert {\n",
              "      background-color: #E8F0FE;\n",
              "      border: none;\n",
              "      border-radius: 50%;\n",
              "      cursor: pointer;\n",
              "      display: none;\n",
              "      fill: #1967D2;\n",
              "      height: 32px;\n",
              "      padding: 0 0 0 0;\n",
              "      width: 32px;\n",
              "    }\n",
              "\n",
              "    .colab-df-convert:hover {\n",
              "      background-color: #E2EBFA;\n",
              "      box-shadow: 0px 1px 2px rgba(60, 64, 67, 0.3), 0px 1px 3px 1px rgba(60, 64, 67, 0.15);\n",
              "      fill: #174EA6;\n",
              "    }\n",
              "\n",
              "    [theme=dark] .colab-df-convert {\n",
              "      background-color: #3B4455;\n",
              "      fill: #D2E3FC;\n",
              "    }\n",
              "\n",
              "    [theme=dark] .colab-df-convert:hover {\n",
              "      background-color: #434B5C;\n",
              "      box-shadow: 0px 1px 3px 1px rgba(0, 0, 0, 0.15);\n",
              "      filter: drop-shadow(0px 1px 2px rgba(0, 0, 0, 0.3));\n",
              "      fill: #FFFFFF;\n",
              "    }\n",
              "  </style>\n",
              "\n",
              "      <script>\n",
              "        const buttonEl =\n",
              "          document.querySelector('#df-5bbf4dce-9ae8-486e-aeb2-3d0e627133b3 button.colab-df-convert');\n",
              "        buttonEl.style.display =\n",
              "          google.colab.kernel.accessAllowed ? 'block' : 'none';\n",
              "\n",
              "        async function convertToInteractive(key) {\n",
              "          const element = document.querySelector('#df-5bbf4dce-9ae8-486e-aeb2-3d0e627133b3');\n",
              "          const dataTable =\n",
              "            await google.colab.kernel.invokeFunction('convertToInteractive',\n",
              "                                                     [key], {});\n",
              "          if (!dataTable) return;\n",
              "\n",
              "          const docLinkHtml = 'Like what you see? Visit the ' +\n",
              "            '<a target=\"_blank\" href=https://colab.research.google.com/notebooks/data_table.ipynb>data table notebook</a>'\n",
              "            + ' to learn more about interactive tables.';\n",
              "          element.innerHTML = '';\n",
              "          dataTable['output_type'] = 'display_data';\n",
              "          await google.colab.output.renderOutput(dataTable, element);\n",
              "          const docLink = document.createElement('div');\n",
              "          docLink.innerHTML = docLinkHtml;\n",
              "          element.appendChild(docLink);\n",
              "        }\n",
              "      </script>\n",
              "    </div>\n",
              "  </div>\n",
              "  "
            ]
          },
          "metadata": {},
          "execution_count": 10
        }
      ]
    },
    {
      "cell_type": "code",
      "source": [
        "df=pd.concat([df_notrelevant,df_relevant])\n",
        "df.head()"
      ],
      "metadata": {
        "colab": {
          "base_uri": "https://localhost:8080/",
          "height": 206
        },
        "id": "cNOv8gt4XjlF",
        "outputId": "2c07979a-e970-43eb-9d19-510a91657454"
      },
      "execution_count": 11,
      "outputs": [
        {
          "output_type": "execute_result",
          "data": {
            "text/plain": [
              "      type years                                              title  target\n",
              "0  article  2017  The long-term consumption of oats in celiac di...       0\n",
              "1  article  2012  Effects of exposure to rice-crop residue burni...       0\n",
              "2  article  2013  Health risk assessment of pesticides residue i...       0\n",
              "3  article  2015  Carcinogenic and non-carcinogenic risk of orga...       0\n",
              "4  article  2018  Molecular heterogeneity in the 18s DNA gene of...       0"
            ],
            "text/html": [
              "\n",
              "  <div id=\"df-89426a86-a41f-44ac-8401-ec5cd67ce31a\">\n",
              "    <div class=\"colab-df-container\">\n",
              "      <div>\n",
              "<style scoped>\n",
              "    .dataframe tbody tr th:only-of-type {\n",
              "        vertical-align: middle;\n",
              "    }\n",
              "\n",
              "    .dataframe tbody tr th {\n",
              "        vertical-align: top;\n",
              "    }\n",
              "\n",
              "    .dataframe thead th {\n",
              "        text-align: right;\n",
              "    }\n",
              "</style>\n",
              "<table border=\"1\" class=\"dataframe\">\n",
              "  <thead>\n",
              "    <tr style=\"text-align: right;\">\n",
              "      <th></th>\n",
              "      <th>type</th>\n",
              "      <th>years</th>\n",
              "      <th>title</th>\n",
              "      <th>target</th>\n",
              "    </tr>\n",
              "  </thead>\n",
              "  <tbody>\n",
              "    <tr>\n",
              "      <th>0</th>\n",
              "      <td>article</td>\n",
              "      <td>2017</td>\n",
              "      <td>The long-term consumption of oats in celiac di...</td>\n",
              "      <td>0</td>\n",
              "    </tr>\n",
              "    <tr>\n",
              "      <th>1</th>\n",
              "      <td>article</td>\n",
              "      <td>2012</td>\n",
              "      <td>Effects of exposure to rice-crop residue burni...</td>\n",
              "      <td>0</td>\n",
              "    </tr>\n",
              "    <tr>\n",
              "      <th>2</th>\n",
              "      <td>article</td>\n",
              "      <td>2013</td>\n",
              "      <td>Health risk assessment of pesticides residue i...</td>\n",
              "      <td>0</td>\n",
              "    </tr>\n",
              "    <tr>\n",
              "      <th>3</th>\n",
              "      <td>article</td>\n",
              "      <td>2015</td>\n",
              "      <td>Carcinogenic and non-carcinogenic risk of orga...</td>\n",
              "      <td>0</td>\n",
              "    </tr>\n",
              "    <tr>\n",
              "      <th>4</th>\n",
              "      <td>article</td>\n",
              "      <td>2018</td>\n",
              "      <td>Molecular heterogeneity in the 18s DNA gene of...</td>\n",
              "      <td>0</td>\n",
              "    </tr>\n",
              "  </tbody>\n",
              "</table>\n",
              "</div>\n",
              "      <button class=\"colab-df-convert\" onclick=\"convertToInteractive('df-89426a86-a41f-44ac-8401-ec5cd67ce31a')\"\n",
              "              title=\"Convert this dataframe to an interactive table.\"\n",
              "              style=\"display:none;\">\n",
              "        \n",
              "  <svg xmlns=\"http://www.w3.org/2000/svg\" height=\"24px\"viewBox=\"0 0 24 24\"\n",
              "       width=\"24px\">\n",
              "    <path d=\"M0 0h24v24H0V0z\" fill=\"none\"/>\n",
              "    <path d=\"M18.56 5.44l.94 2.06.94-2.06 2.06-.94-2.06-.94-.94-2.06-.94 2.06-2.06.94zm-11 1L8.5 8.5l.94-2.06 2.06-.94-2.06-.94L8.5 2.5l-.94 2.06-2.06.94zm10 10l.94 2.06.94-2.06 2.06-.94-2.06-.94-.94-2.06-.94 2.06-2.06.94z\"/><path d=\"M17.41 7.96l-1.37-1.37c-.4-.4-.92-.59-1.43-.59-.52 0-1.04.2-1.43.59L10.3 9.45l-7.72 7.72c-.78.78-.78 2.05 0 2.83L4 21.41c.39.39.9.59 1.41.59.51 0 1.02-.2 1.41-.59l7.78-7.78 2.81-2.81c.8-.78.8-2.07 0-2.86zM5.41 20L4 18.59l7.72-7.72 1.47 1.35L5.41 20z\"/>\n",
              "  </svg>\n",
              "      </button>\n",
              "      \n",
              "  <style>\n",
              "    .colab-df-container {\n",
              "      display:flex;\n",
              "      flex-wrap:wrap;\n",
              "      gap: 12px;\n",
              "    }\n",
              "\n",
              "    .colab-df-convert {\n",
              "      background-color: #E8F0FE;\n",
              "      border: none;\n",
              "      border-radius: 50%;\n",
              "      cursor: pointer;\n",
              "      display: none;\n",
              "      fill: #1967D2;\n",
              "      height: 32px;\n",
              "      padding: 0 0 0 0;\n",
              "      width: 32px;\n",
              "    }\n",
              "\n",
              "    .colab-df-convert:hover {\n",
              "      background-color: #E2EBFA;\n",
              "      box-shadow: 0px 1px 2px rgba(60, 64, 67, 0.3), 0px 1px 3px 1px rgba(60, 64, 67, 0.15);\n",
              "      fill: #174EA6;\n",
              "    }\n",
              "\n",
              "    [theme=dark] .colab-df-convert {\n",
              "      background-color: #3B4455;\n",
              "      fill: #D2E3FC;\n",
              "    }\n",
              "\n",
              "    [theme=dark] .colab-df-convert:hover {\n",
              "      background-color: #434B5C;\n",
              "      box-shadow: 0px 1px 3px 1px rgba(0, 0, 0, 0.15);\n",
              "      filter: drop-shadow(0px 1px 2px rgba(0, 0, 0, 0.3));\n",
              "      fill: #FFFFFF;\n",
              "    }\n",
              "  </style>\n",
              "\n",
              "      <script>\n",
              "        const buttonEl =\n",
              "          document.querySelector('#df-89426a86-a41f-44ac-8401-ec5cd67ce31a button.colab-df-convert');\n",
              "        buttonEl.style.display =\n",
              "          google.colab.kernel.accessAllowed ? 'block' : 'none';\n",
              "\n",
              "        async function convertToInteractive(key) {\n",
              "          const element = document.querySelector('#df-89426a86-a41f-44ac-8401-ec5cd67ce31a');\n",
              "          const dataTable =\n",
              "            await google.colab.kernel.invokeFunction('convertToInteractive',\n",
              "                                                     [key], {});\n",
              "          if (!dataTable) return;\n",
              "\n",
              "          const docLinkHtml = 'Like what you see? Visit the ' +\n",
              "            '<a target=\"_blank\" href=https://colab.research.google.com/notebooks/data_table.ipynb>data table notebook</a>'\n",
              "            + ' to learn more about interactive tables.';\n",
              "          element.innerHTML = '';\n",
              "          dataTable['output_type'] = 'display_data';\n",
              "          await google.colab.output.renderOutput(dataTable, element);\n",
              "          const docLink = document.createElement('div');\n",
              "          docLink.innerHTML = docLinkHtml;\n",
              "          element.appendChild(docLink);\n",
              "        }\n",
              "      </script>\n",
              "    </div>\n",
              "  </div>\n",
              "  "
            ]
          },
          "metadata": {},
          "execution_count": 11
        }
      ]
    },
    {
      "cell_type": "code",
      "source": [
        "df=df.sort_values( by=[\"title\"],ascending= True )"
      ],
      "metadata": {
        "id": "UItXTAoCXjfe"
      },
      "execution_count": 12,
      "outputs": []
    },
    {
      "cell_type": "code",
      "source": [
        "df.head()"
      ],
      "metadata": {
        "id": "xvGpNaursshk",
        "colab": {
          "base_uri": "https://localhost:8080/",
          "height": 206
        },
        "outputId": "feb40d53-47ce-4380-ddaa-1f42b5966276"
      },
      "execution_count": 13,
      "outputs": [
        {
          "output_type": "execute_result",
          "data": {
            "text/plain": [
              "        type years                                              title  target\n",
              "305  article  2016  \"GMO\" maize and public health - A case of Schu...       0\n",
              "268  article  2013  'Emerging' mycotoxins in cereals processing ch...       1\n",
              "266  article  2011                 210Pb and 210Po in Finnish cereals       1\n",
              "233  article  2014  6-Plex microsphere immunoassay with imaging pl...       0\n",
              "172  article  2015  A 1961-2010 record of fertilizer use, pesticid...       0"
            ],
            "text/html": [
              "\n",
              "  <div id=\"df-50835b59-6601-4ef9-a80b-f9e9d55e6696\">\n",
              "    <div class=\"colab-df-container\">\n",
              "      <div>\n",
              "<style scoped>\n",
              "    .dataframe tbody tr th:only-of-type {\n",
              "        vertical-align: middle;\n",
              "    }\n",
              "\n",
              "    .dataframe tbody tr th {\n",
              "        vertical-align: top;\n",
              "    }\n",
              "\n",
              "    .dataframe thead th {\n",
              "        text-align: right;\n",
              "    }\n",
              "</style>\n",
              "<table border=\"1\" class=\"dataframe\">\n",
              "  <thead>\n",
              "    <tr style=\"text-align: right;\">\n",
              "      <th></th>\n",
              "      <th>type</th>\n",
              "      <th>years</th>\n",
              "      <th>title</th>\n",
              "      <th>target</th>\n",
              "    </tr>\n",
              "  </thead>\n",
              "  <tbody>\n",
              "    <tr>\n",
              "      <th>305</th>\n",
              "      <td>article</td>\n",
              "      <td>2016</td>\n",
              "      <td>\"GMO\" maize and public health - A case of Schu...</td>\n",
              "      <td>0</td>\n",
              "    </tr>\n",
              "    <tr>\n",
              "      <th>268</th>\n",
              "      <td>article</td>\n",
              "      <td>2013</td>\n",
              "      <td>'Emerging' mycotoxins in cereals processing ch...</td>\n",
              "      <td>1</td>\n",
              "    </tr>\n",
              "    <tr>\n",
              "      <th>266</th>\n",
              "      <td>article</td>\n",
              "      <td>2011</td>\n",
              "      <td>210Pb and 210Po in Finnish cereals</td>\n",
              "      <td>1</td>\n",
              "    </tr>\n",
              "    <tr>\n",
              "      <th>233</th>\n",
              "      <td>article</td>\n",
              "      <td>2014</td>\n",
              "      <td>6-Plex microsphere immunoassay with imaging pl...</td>\n",
              "      <td>0</td>\n",
              "    </tr>\n",
              "    <tr>\n",
              "      <th>172</th>\n",
              "      <td>article</td>\n",
              "      <td>2015</td>\n",
              "      <td>A 1961-2010 record of fertilizer use, pesticid...</td>\n",
              "      <td>0</td>\n",
              "    </tr>\n",
              "  </tbody>\n",
              "</table>\n",
              "</div>\n",
              "      <button class=\"colab-df-convert\" onclick=\"convertToInteractive('df-50835b59-6601-4ef9-a80b-f9e9d55e6696')\"\n",
              "              title=\"Convert this dataframe to an interactive table.\"\n",
              "              style=\"display:none;\">\n",
              "        \n",
              "  <svg xmlns=\"http://www.w3.org/2000/svg\" height=\"24px\"viewBox=\"0 0 24 24\"\n",
              "       width=\"24px\">\n",
              "    <path d=\"M0 0h24v24H0V0z\" fill=\"none\"/>\n",
              "    <path d=\"M18.56 5.44l.94 2.06.94-2.06 2.06-.94-2.06-.94-.94-2.06-.94 2.06-2.06.94zm-11 1L8.5 8.5l.94-2.06 2.06-.94-2.06-.94L8.5 2.5l-.94 2.06-2.06.94zm10 10l.94 2.06.94-2.06 2.06-.94-2.06-.94-.94-2.06-.94 2.06-2.06.94z\"/><path d=\"M17.41 7.96l-1.37-1.37c-.4-.4-.92-.59-1.43-.59-.52 0-1.04.2-1.43.59L10.3 9.45l-7.72 7.72c-.78.78-.78 2.05 0 2.83L4 21.41c.39.39.9.59 1.41.59.51 0 1.02-.2 1.41-.59l7.78-7.78 2.81-2.81c.8-.78.8-2.07 0-2.86zM5.41 20L4 18.59l7.72-7.72 1.47 1.35L5.41 20z\"/>\n",
              "  </svg>\n",
              "      </button>\n",
              "      \n",
              "  <style>\n",
              "    .colab-df-container {\n",
              "      display:flex;\n",
              "      flex-wrap:wrap;\n",
              "      gap: 12px;\n",
              "    }\n",
              "\n",
              "    .colab-df-convert {\n",
              "      background-color: #E8F0FE;\n",
              "      border: none;\n",
              "      border-radius: 50%;\n",
              "      cursor: pointer;\n",
              "      display: none;\n",
              "      fill: #1967D2;\n",
              "      height: 32px;\n",
              "      padding: 0 0 0 0;\n",
              "      width: 32px;\n",
              "    }\n",
              "\n",
              "    .colab-df-convert:hover {\n",
              "      background-color: #E2EBFA;\n",
              "      box-shadow: 0px 1px 2px rgba(60, 64, 67, 0.3), 0px 1px 3px 1px rgba(60, 64, 67, 0.15);\n",
              "      fill: #174EA6;\n",
              "    }\n",
              "\n",
              "    [theme=dark] .colab-df-convert {\n",
              "      background-color: #3B4455;\n",
              "      fill: #D2E3FC;\n",
              "    }\n",
              "\n",
              "    [theme=dark] .colab-df-convert:hover {\n",
              "      background-color: #434B5C;\n",
              "      box-shadow: 0px 1px 3px 1px rgba(0, 0, 0, 0.15);\n",
              "      filter: drop-shadow(0px 1px 2px rgba(0, 0, 0, 0.3));\n",
              "      fill: #FFFFFF;\n",
              "    }\n",
              "  </style>\n",
              "\n",
              "      <script>\n",
              "        const buttonEl =\n",
              "          document.querySelector('#df-50835b59-6601-4ef9-a80b-f9e9d55e6696 button.colab-df-convert');\n",
              "        buttonEl.style.display =\n",
              "          google.colab.kernel.accessAllowed ? 'block' : 'none';\n",
              "\n",
              "        async function convertToInteractive(key) {\n",
              "          const element = document.querySelector('#df-50835b59-6601-4ef9-a80b-f9e9d55e6696');\n",
              "          const dataTable =\n",
              "            await google.colab.kernel.invokeFunction('convertToInteractive',\n",
              "                                                     [key], {});\n",
              "          if (!dataTable) return;\n",
              "\n",
              "          const docLinkHtml = 'Like what you see? Visit the ' +\n",
              "            '<a target=\"_blank\" href=https://colab.research.google.com/notebooks/data_table.ipynb>data table notebook</a>'\n",
              "            + ' to learn more about interactive tables.';\n",
              "          element.innerHTML = '';\n",
              "          dataTable['output_type'] = 'display_data';\n",
              "          await google.colab.output.renderOutput(dataTable, element);\n",
              "          const docLink = document.createElement('div');\n",
              "          docLink.innerHTML = docLinkHtml;\n",
              "          element.appendChild(docLink);\n",
              "        }\n",
              "      </script>\n",
              "    </div>\n",
              "  </div>\n",
              "  "
            ]
          },
          "metadata": {},
          "execution_count": 13
        }
      ]
    },
    {
      "cell_type": "code",
      "source": [
        "from sklearn.model_selection import train_test_split\n",
        "x=df[['title','type']]\n",
        "y=df['target']\n",
        "X_train, X_test, y_train, y_test = train_test_split(x, y, test_size=0.33)"
      ],
      "metadata": {
        "id": "tZSgjAZpyIrt"
      },
      "execution_count": 14,
      "outputs": []
    },
    {
      "cell_type": "markdown",
      "source": [
        "#preprocessing"
      ],
      "metadata": {
        "id": "Ziann7Xh04hQ"
      }
    },
    {
      "cell_type": "code",
      "source": [
        "#1:remove puntuation \n",
        "\n",
        "import string\n",
        "\n",
        "def remove__puntuation(text):\n",
        "  V=text.maketrans('','',string.punctuation)\n",
        "  return text.translate(V)"
      ],
      "metadata": {
        "id": "z-f7LUh108Vi"
      },
      "execution_count": 15,
      "outputs": []
    },
    {
      "cell_type": "code",
      "source": [
        "df['title']=df.title.map(lambda x: remove__puntuation(x))"
      ],
      "metadata": {
        "id": "Y5TTxbrv72wV"
      },
      "execution_count": 16,
      "outputs": []
    },
    {
      "cell_type": "code",
      "source": [
        "X_train['title']=X_train.title.map(lambda x: remove__puntuation(x))\n",
        "X_test['title']=X_test.title.map(lambda x: remove__puntuation(x))"
      ],
      "metadata": {
        "id": "QWYhMAyP8qSz"
      },
      "execution_count": 17,
      "outputs": []
    },
    {
      "cell_type": "code",
      "source": [
        "X_train.head()"
      ],
      "metadata": {
        "colab": {
          "base_uri": "https://localhost:8080/",
          "height": 206
        },
        "id": "fJ1p4tGF9cY1",
        "outputId": "7225f8cf-c511-4ee7-cc51-69a5ca84d5c9"
      },
      "execution_count": 18,
      "outputs": [
        {
          "output_type": "execute_result",
          "data": {
            "text/plain": [
              "                                                 title     type\n",
              "81   Setting of import tolerances for cyantranilipr...  article\n",
              "96   Acrylamide–asparagine relationship in bakedtoa...  article\n",
              "45   Fumonisins and fumonisinproducing Fusarium occ...  article\n",
              "249  Aflatoxin M1 contamination in raw bulk milk an...  article\n",
              "295  Characterization and detection of toxoflavinpr...  article"
            ],
            "text/html": [
              "\n",
              "  <div id=\"df-b2f473bd-f77d-4c46-af72-70bd3c40c876\">\n",
              "    <div class=\"colab-df-container\">\n",
              "      <div>\n",
              "<style scoped>\n",
              "    .dataframe tbody tr th:only-of-type {\n",
              "        vertical-align: middle;\n",
              "    }\n",
              "\n",
              "    .dataframe tbody tr th {\n",
              "        vertical-align: top;\n",
              "    }\n",
              "\n",
              "    .dataframe thead th {\n",
              "        text-align: right;\n",
              "    }\n",
              "</style>\n",
              "<table border=\"1\" class=\"dataframe\">\n",
              "  <thead>\n",
              "    <tr style=\"text-align: right;\">\n",
              "      <th></th>\n",
              "      <th>title</th>\n",
              "      <th>type</th>\n",
              "    </tr>\n",
              "  </thead>\n",
              "  <tbody>\n",
              "    <tr>\n",
              "      <th>81</th>\n",
              "      <td>Setting of import tolerances for cyantranilipr...</td>\n",
              "      <td>article</td>\n",
              "    </tr>\n",
              "    <tr>\n",
              "      <th>96</th>\n",
              "      <td>Acrylamide–asparagine relationship in bakedtoa...</td>\n",
              "      <td>article</td>\n",
              "    </tr>\n",
              "    <tr>\n",
              "      <th>45</th>\n",
              "      <td>Fumonisins and fumonisinproducing Fusarium occ...</td>\n",
              "      <td>article</td>\n",
              "    </tr>\n",
              "    <tr>\n",
              "      <th>249</th>\n",
              "      <td>Aflatoxin M1 contamination in raw bulk milk an...</td>\n",
              "      <td>article</td>\n",
              "    </tr>\n",
              "    <tr>\n",
              "      <th>295</th>\n",
              "      <td>Characterization and detection of toxoflavinpr...</td>\n",
              "      <td>article</td>\n",
              "    </tr>\n",
              "  </tbody>\n",
              "</table>\n",
              "</div>\n",
              "      <button class=\"colab-df-convert\" onclick=\"convertToInteractive('df-b2f473bd-f77d-4c46-af72-70bd3c40c876')\"\n",
              "              title=\"Convert this dataframe to an interactive table.\"\n",
              "              style=\"display:none;\">\n",
              "        \n",
              "  <svg xmlns=\"http://www.w3.org/2000/svg\" height=\"24px\"viewBox=\"0 0 24 24\"\n",
              "       width=\"24px\">\n",
              "    <path d=\"M0 0h24v24H0V0z\" fill=\"none\"/>\n",
              "    <path d=\"M18.56 5.44l.94 2.06.94-2.06 2.06-.94-2.06-.94-.94-2.06-.94 2.06-2.06.94zm-11 1L8.5 8.5l.94-2.06 2.06-.94-2.06-.94L8.5 2.5l-.94 2.06-2.06.94zm10 10l.94 2.06.94-2.06 2.06-.94-2.06-.94-.94-2.06-.94 2.06-2.06.94z\"/><path d=\"M17.41 7.96l-1.37-1.37c-.4-.4-.92-.59-1.43-.59-.52 0-1.04.2-1.43.59L10.3 9.45l-7.72 7.72c-.78.78-.78 2.05 0 2.83L4 21.41c.39.39.9.59 1.41.59.51 0 1.02-.2 1.41-.59l7.78-7.78 2.81-2.81c.8-.78.8-2.07 0-2.86zM5.41 20L4 18.59l7.72-7.72 1.47 1.35L5.41 20z\"/>\n",
              "  </svg>\n",
              "      </button>\n",
              "      \n",
              "  <style>\n",
              "    .colab-df-container {\n",
              "      display:flex;\n",
              "      flex-wrap:wrap;\n",
              "      gap: 12px;\n",
              "    }\n",
              "\n",
              "    .colab-df-convert {\n",
              "      background-color: #E8F0FE;\n",
              "      border: none;\n",
              "      border-radius: 50%;\n",
              "      cursor: pointer;\n",
              "      display: none;\n",
              "      fill: #1967D2;\n",
              "      height: 32px;\n",
              "      padding: 0 0 0 0;\n",
              "      width: 32px;\n",
              "    }\n",
              "\n",
              "    .colab-df-convert:hover {\n",
              "      background-color: #E2EBFA;\n",
              "      box-shadow: 0px 1px 2px rgba(60, 64, 67, 0.3), 0px 1px 3px 1px rgba(60, 64, 67, 0.15);\n",
              "      fill: #174EA6;\n",
              "    }\n",
              "\n",
              "    [theme=dark] .colab-df-convert {\n",
              "      background-color: #3B4455;\n",
              "      fill: #D2E3FC;\n",
              "    }\n",
              "\n",
              "    [theme=dark] .colab-df-convert:hover {\n",
              "      background-color: #434B5C;\n",
              "      box-shadow: 0px 1px 3px 1px rgba(0, 0, 0, 0.15);\n",
              "      filter: drop-shadow(0px 1px 2px rgba(0, 0, 0, 0.3));\n",
              "      fill: #FFFFFF;\n",
              "    }\n",
              "  </style>\n",
              "\n",
              "      <script>\n",
              "        const buttonEl =\n",
              "          document.querySelector('#df-b2f473bd-f77d-4c46-af72-70bd3c40c876 button.colab-df-convert');\n",
              "        buttonEl.style.display =\n",
              "          google.colab.kernel.accessAllowed ? 'block' : 'none';\n",
              "\n",
              "        async function convertToInteractive(key) {\n",
              "          const element = document.querySelector('#df-b2f473bd-f77d-4c46-af72-70bd3c40c876');\n",
              "          const dataTable =\n",
              "            await google.colab.kernel.invokeFunction('convertToInteractive',\n",
              "                                                     [key], {});\n",
              "          if (!dataTable) return;\n",
              "\n",
              "          const docLinkHtml = 'Like what you see? Visit the ' +\n",
              "            '<a target=\"_blank\" href=https://colab.research.google.com/notebooks/data_table.ipynb>data table notebook</a>'\n",
              "            + ' to learn more about interactive tables.';\n",
              "          element.innerHTML = '';\n",
              "          dataTable['output_type'] = 'display_data';\n",
              "          await google.colab.output.renderOutput(dataTable, element);\n",
              "          const docLink = document.createElement('div');\n",
              "          docLink.innerHTML = docLinkHtml;\n",
              "          element.appendChild(docLink);\n",
              "        }\n",
              "      </script>\n",
              "    </div>\n",
              "  </div>\n",
              "  "
            ]
          },
          "metadata": {},
          "execution_count": 18
        }
      ]
    },
    {
      "cell_type": "code",
      "source": [
        "#2:remove stopwords\n",
        "from nltk.corpus import stopwords\n",
        "\n",
        "the_stopwords=set(stopwords.words('english'))\n",
        "\n",
        "def remove__stopwords(text):\n",
        "  text=[word.lower() for word in text.split() if word.lower() not in the_stopwords]\n",
        "  return \" \".join(text)"
      ],
      "metadata": {
        "id": "vr_9b99z8BF0"
      },
      "execution_count": 19,
      "outputs": []
    },
    {
      "cell_type": "code",
      "source": [
        "df['title']= df.title.map(lambda x: remove__stopwords(x))"
      ],
      "metadata": {
        "id": "HeR4cJXN7_GX"
      },
      "execution_count": 20,
      "outputs": []
    },
    {
      "cell_type": "code",
      "source": [
        "X_train['title']= X_train.title.map(lambda x: remove__stopwords(x))\n",
        "X_test['title']= X_test.title.map(lambda x: remove__stopwords(x))"
      ],
      "metadata": {
        "id": "8pIqGQYi7wZ2"
      },
      "execution_count": 21,
      "outputs": []
    },
    {
      "cell_type": "code",
      "source": [
        "#tokenization \n",
        "from nltk.tokenize import word_tokenize\n",
        "import nltk\n",
        "nltk.download('punkt')\n",
        "def Tokenize_cp(df):\n",
        "  corpus=[]\n",
        "  for word in df[\"title\"]:\n",
        "    w=[word.lower() for word in word_tokenize(word)]\n",
        "    corpus.append(w)\n",
        "  return corpus"
      ],
      "metadata": {
        "colab": {
          "base_uri": "https://localhost:8080/"
        },
        "id": "jjaEt7AScqP-",
        "outputId": "6170c8b3-b23f-4862-b3f2-49138187a9ad"
      },
      "execution_count": 22,
      "outputs": [
        {
          "output_type": "stream",
          "name": "stdout",
          "text": [
            "[nltk_data] Downloading package punkt to /root/nltk_data...\n",
            "[nltk_data]   Unzipping tokenizers/punkt.zip.\n"
          ]
        }
      ]
    },
    {
      "cell_type": "code",
      "source": [
        "corpus=Tokenize_cp(df)\n",
        "len(corpus)"
      ],
      "metadata": {
        "colab": {
          "base_uri": "https://localhost:8080/"
        },
        "id": "hOaTUHoU3VBT",
        "outputId": "9eca8f5f-4eea-4b2e-a6cf-74bfb6b25978"
      },
      "execution_count": 23,
      "outputs": [
        {
          "output_type": "execute_result",
          "data": {
            "text/plain": [
              "684"
            ]
          },
          "metadata": {},
          "execution_count": 23
        }
      ]
    },
    {
      "cell_type": "code",
      "source": [
        "from sklearn.model_selection import train_test_split\n",
        "x=df[['title','type']]\n",
        "y=df['target']\n",
        "X_train, X_test, y_train, y_test = train_test_split(x, y, test_size=0.33)"
      ],
      "metadata": {
        "id": "UmhzPbn507-W"
      },
      "execution_count": 24,
      "outputs": []
    },
    {
      "cell_type": "markdown",
      "source": [
        "#Embedings"
      ],
      "metadata": {
        "id": "x09dJx2uVNeT"
      }
    },
    {
      "cell_type": "code",
      "source": [
        "from keras.preprocessing.text import Tokenizer\n",
        "from keras.preprocessing.sequence import pad_sequences"
      ],
      "metadata": {
        "id": "loTWm9DuUqXh"
      },
      "execution_count": 25,
      "outputs": []
    },
    {
      "cell_type": "code",
      "source": [
        "num_words=len(corpus)+1"
      ],
      "metadata": {
        "id": "jM92XVa0YRLd"
      },
      "execution_count": 26,
      "outputs": []
    },
    {
      "cell_type": "code",
      "source": [
        "tokenizer=Tokenizer(num_words=num_words)\n",
        "tokenizer.fit_on_texts(X_train[\"title\"])"
      ],
      "metadata": {
        "id": "U8FZvLx9X8_q"
      },
      "execution_count": 27,
      "outputs": []
    },
    {
      "cell_type": "code",
      "source": [
        "train_sequence=tokenizer.texts_to_sequences(X_train[\"title\"])"
      ],
      "metadata": {
        "id": "OB-nM3eYY_po"
      },
      "execution_count": 28,
      "outputs": []
    },
    {
      "cell_type": "code",
      "source": [
        "len(max(X_test[\"title\"]).split())"
      ],
      "metadata": {
        "colab": {
          "base_uri": "https://localhost:8080/"
        },
        "id": "iX88q2c2cXzc",
        "outputId": "be866afa-f7fd-4a81-bc20-c3082d2480b3"
      },
      "execution_count": 29,
      "outputs": [
        {
          "output_type": "execute_result",
          "data": {
            "text/plain": [
              "10"
            ]
          },
          "metadata": {},
          "execution_count": 29
        }
      ]
    },
    {
      "cell_type": "code",
      "source": [
        "max_len=17\n",
        "train_pad=pad_sequences(train_sequence,maxlen=max_len,truncating=\"post\",padding=\"post\")"
      ],
      "metadata": {
        "id": "xExbvdUWate2"
      },
      "execution_count": 30,
      "outputs": []
    },
    {
      "cell_type": "code",
      "source": [
        "train_pad"
      ],
      "metadata": {
        "colab": {
          "base_uri": "https://localhost:8080/"
        },
        "id": "8_ImehgxdNZZ",
        "outputId": "a8151b0a-eb7f-4a3c-8e48-73e970ddabd5"
      },
      "execution_count": 31,
      "outputs": [
        {
          "output_type": "execute_result",
          "data": {
            "text/plain": [
              "array([[ 52,   5,  39, ...,   0,   0,   0],\n",
              "       [376, 188, 377, ..., 656,   0,   0],\n",
              "       [149,  19,  36, ...,   0,   0,   0],\n",
              "       ...,\n",
              "       [146,  32,  49, ...,   0,   0,   0],\n",
              "       [ 84, 372,   1, ...,   0,   0,   0],\n",
              "       [340,  44,  15, ...,   0,   0,   0]], dtype=int32)"
            ]
          },
          "metadata": {},
          "execution_count": 31
        }
      ]
    },
    {
      "cell_type": "code",
      "source": [
        "#and now same for test\n",
        "max_len=17\n",
        "test_sequence=tokenizer.texts_to_sequences(X_test[\"title\"])\n",
        "test_pad=pad_sequences(test_sequence,maxlen=max_len,truncating=\"post\",padding=\"post\")"
      ],
      "metadata": {
        "id": "OTYHlmvudPKO"
      },
      "execution_count": 32,
      "outputs": []
    },
    {
      "cell_type": "code",
      "source": [
        "print(X_train.title[0])\n",
        "print(train_sequence[0])"
      ],
      "metadata": {
        "colab": {
          "base_uri": "https://localhost:8080/"
        },
        "id": "gvTEe1vGd6Rz",
        "outputId": "48ec3d3c-ddf3-41c7-84b8-f013b19a5914"
      },
      "execution_count": 33,
      "outputs": [
        {
          "output_type": "stream",
          "name": "stdout",
          "text": [
            "longterm consumption oats celiac disease patients safe large crosssectional study\n",
            "[52, 5, 39, 15, 82, 3, 186, 257, 375, 187, 29]\n"
          ]
        }
      ]
    },
    {
      "cell_type": "code",
      "source": [
        "WordIindex=tokenizer.word_index"
      ],
      "metadata": {
        "id": "6bBzgFO-eIES"
      },
      "execution_count": 34,
      "outputs": []
    },
    {
      "cell_type": "code",
      "source": [
        "print(\"Number of unique words:\", len(WordIindex))"
      ],
      "metadata": {
        "colab": {
          "base_uri": "https://localhost:8080/"
        },
        "id": "6qW7CEjPfHx9",
        "outputId": "27c744d9-af79-4665-ed13-a5c10d520d3f"
      },
      "execution_count": 35,
      "outputs": [
        {
          "output_type": "stream",
          "name": "stdout",
          "text": [
            "Number of unique words: 1784\n"
          ]
        }
      ]
    },
    {
      "cell_type": "code",
      "source": [
        "pip install urllib"
      ],
      "metadata": {
        "colab": {
          "base_uri": "https://localhost:8080/"
        },
        "id": "FANjgBpowXqA",
        "outputId": "a5f36b71-0801-44bc-f99a-a7ad3544b436"
      },
      "execution_count": 36,
      "outputs": [
        {
          "output_type": "stream",
          "name": "stdout",
          "text": [
            "\u001b[31mERROR: Could not find a version that satisfies the requirement urllib (from versions: none)\u001b[0m\n",
            "\u001b[31mERROR: No matching distribution found for urllib\u001b[0m\n"
          ]
        }
      ]
    },
    {
      "cell_type": "code",
      "source": [
        "import urllib.request\n",
        "urllib.request.urlretrieve('https://nlp.stanford.edu/data/glove.6B.zip','glove.6B.zip')"
      ],
      "metadata": {
        "colab": {
          "base_uri": "https://localhost:8080/"
        },
        "id": "qyMzz8hQfSFw",
        "outputId": "7b74602f-c255-4717-a75d-733d8b8a198d"
      },
      "execution_count": 44,
      "outputs": [
        {
          "output_type": "execute_result",
          "data": {
            "text/plain": [
              "('glove.6B.zip', <http.client.HTTPMessage at 0x7fc29c00d690>)"
            ]
          },
          "metadata": {},
          "execution_count": 44
        }
      ]
    },
    {
      "cell_type": "code",
      "source": [
        "!unzip \"/content/glove.6B.zip\" -d \"/content/\""
      ],
      "metadata": {
        "colab": {
          "base_uri": "https://localhost:8080/"
        },
        "id": "wbIQIfwFQxmz",
        "outputId": "163b6a52-d23a-41dc-8a93-b814a96bda22"
      },
      "execution_count": 45,
      "outputs": [
        {
          "output_type": "stream",
          "name": "stdout",
          "text": [
            "Archive:  /content/glove.6B.zip\n",
            "replace /content/glove.6B.50d.txt? [y]es, [n]o, [A]ll, [N]one, [r]ename: nN\n",
            "replace /content/glove.6B.100d.txt? [y]es, [n]o, [A]ll, [N]one, [r]ename: n\n",
            "replace /content/glove.6B.200d.txt? [y]es, [n]o, [A]ll, [N]one, [r]ename: n\n",
            "replace /content/glove.6B.300d.txt? [y]es, [n]o, [A]ll, [N]one, [r]ename: n\n"
          ]
        }
      ]
    },
    {
      "cell_type": "code",
      "source": [
        "Dict_Embeded={}\n",
        "with open('/content/glove.6B.200d.txt') as the_file:\n",
        "  for line in the_file:\n",
        "    val=line.split()\n",
        "    word=val[0]\n",
        "    vec=np.asarray(val[1:],'float32')\n",
        "    Dict_Embeded[word]=vec"
      ],
      "metadata": {
        "id": "revYKXkif7sE"
      },
      "execution_count": 46,
      "outputs": []
    },
    {
      "cell_type": "code",
      "source": [
        "len(Dict_Embeded[\"with\"])"
      ],
      "metadata": {
        "colab": {
          "base_uri": "https://localhost:8080/"
        },
        "id": "Wy-nZRmS2EgI",
        "outputId": "ef31654d-7bb2-4712-f062-9b834a38e862"
      },
      "execution_count": 47,
      "outputs": [
        {
          "output_type": "execute_result",
          "data": {
            "text/plain": [
              "200"
            ]
          },
          "metadata": {},
          "execution_count": 47
        }
      ]
    },
    {
      "cell_type": "code",
      "source": [
        "type(embedding_matrix)"
      ],
      "metadata": {
        "colab": {
          "base_uri": "https://localhost:8080/"
        },
        "id": "T4-pcZxxSs27",
        "outputId": "94e61570-d088-480c-e1ed-740a08c8a738"
      },
      "execution_count": 66,
      "outputs": [
        {
          "output_type": "execute_result",
          "data": {
            "text/plain": [
              "numpy.ndarray"
            ]
          },
          "metadata": {},
          "execution_count": 66
        }
      ]
    },
    {
      "cell_type": "code",
      "source": [
        "num_words = len(WordIindex) + 1\n",
        "embedding_matrix = np.zeros((num_words, 200))\n",
        "\n",
        "for word, i in WordIindex.items():\n",
        "    if i < num_words:\n",
        "        emb_vec = Dict_Embeded.get(word)\n",
        "        if emb_vec is not None:\n",
        "            embedding_matrix[i] = emb_vec"
      ],
      "metadata": {
        "id": "8F3GtuGIzLPd"
      },
      "execution_count": 54,
      "outputs": []
    },
    {
      "cell_type": "code",
      "source": [
        "#1.Define the model.\n",
        "#2.Compile the model.\n",
        "#3.Fit the model.\n",
        "#4.Evaluate the model.\n",
        "#5.Make predictions."
      ],
      "metadata": {
        "id": "njqmobEV728e"
      },
      "execution_count": 52,
      "outputs": []
    },
    {
      "cell_type": "code",
      "source": [
        "from keras.models import Sequential\n",
        "from keras.layers import Embedding, LSTM, Dense, Dropout\n",
        "from keras.initializers import Constant\n",
        "from tensorflow.keras.optimizers import Adam\n",
        "\n",
        "model = Sequential()\n",
        "\n",
        "model.add(Embedding(num_words,200, embeddings_initializer=Constant(embedding_matrix),input_length=max_len,trainable=False))\n",
        "model.add(LSTM(200, dropout=0.1))\n",
        "model.add(Dense(1, activation=\"sigmoid\"))\n",
        "optimizer = Adam(learning_rate=3e-4)\n",
        "model.compile(loss=\"binary_crossentropy\", optimizer=optimizer, metrics=[\"accuracy\"])"
      ],
      "metadata": {
        "id": "tRALjB9_z0jj"
      },
      "execution_count": 96,
      "outputs": []
    },
    {
      "cell_type": "code",
      "source": [
        "train_labels=y_train\n",
        "test_labels=y_test\n",
        "model.fit(train_pad,train_labels,epochs=10,validation_data=(test_pad, test_labels),verbose=1)"
      ],
      "metadata": {
        "id": "UxSiVG0C1UPf",
        "colab": {
          "base_uri": "https://localhost:8080/"
        },
        "outputId": "a0a106ff-420a-4ccb-c22d-70a3a94b88b7"
      },
      "execution_count": 97,
      "outputs": [
        {
          "output_type": "stream",
          "name": "stdout",
          "text": [
            "Epoch 1/10\n",
            "15/15 [==============================] - 3s 82ms/step - loss: 0.6809 - accuracy: 0.6114 - val_loss: 0.6588 - val_accuracy: 0.6991\n",
            "Epoch 2/10\n",
            "15/15 [==============================] - 1s 54ms/step - loss: 0.6177 - accuracy: 0.6921 - val_loss: 0.5404 - val_accuracy: 0.7920\n",
            "Epoch 3/10\n",
            "15/15 [==============================] - 1s 51ms/step - loss: 0.4759 - accuracy: 0.7817 - val_loss: 0.5082 - val_accuracy: 0.7257\n",
            "Epoch 4/10\n",
            "15/15 [==============================] - 1s 48ms/step - loss: 0.4288 - accuracy: 0.7904 - val_loss: 0.4420 - val_accuracy: 0.7743\n",
            "Epoch 5/10\n",
            "15/15 [==============================] - 1s 49ms/step - loss: 0.3732 - accuracy: 0.8297 - val_loss: 0.4241 - val_accuracy: 0.7832\n",
            "Epoch 6/10\n",
            "15/15 [==============================] - 1s 50ms/step - loss: 0.3374 - accuracy: 0.8515 - val_loss: 0.4457 - val_accuracy: 0.7699\n",
            "Epoch 7/10\n",
            "15/15 [==============================] - 1s 50ms/step - loss: 0.3174 - accuracy: 0.8603 - val_loss: 0.4367 - val_accuracy: 0.7876\n",
            "Epoch 8/10\n",
            "15/15 [==============================] - 1s 48ms/step - loss: 0.2872 - accuracy: 0.8843 - val_loss: 0.4466 - val_accuracy: 0.7965\n",
            "Epoch 9/10\n",
            "15/15 [==============================] - 1s 63ms/step - loss: 0.2707 - accuracy: 0.8974 - val_loss: 0.4494 - val_accuracy: 0.8142\n",
            "Epoch 10/10\n",
            "15/15 [==============================] - 1s 69ms/step - loss: 0.2584 - accuracy: 0.8952 - val_loss: 0.4583 - val_accuracy: 0.7920\n"
          ]
        },
        {
          "output_type": "execute_result",
          "data": {
            "text/plain": [
              "<keras.callbacks.History at 0x7fc29bcb7d50>"
            ]
          },
          "metadata": {},
          "execution_count": 97
        }
      ]
    },
    {
      "cell_type": "code",
      "source": [
        ""
      ],
      "metadata": {
        "id": "H_L_ZcjATxAM"
      },
      "execution_count": 98,
      "outputs": []
    },
    {
      "cell_type": "code",
      "source": [
        "pred = model.predict(padded)\n",
        "pred_int = pred.round().astype(\"float32\")"
      ],
      "metadata": {
        "id": "auKFdqdpbmHn"
      },
      "execution_count": 99,
      "outputs": []
    },
    {
      "cell_type": "code",
      "source": [
        "model.summary()"
      ],
      "metadata": {
        "colab": {
          "base_uri": "https://localhost:8080/"
        },
        "id": "nWACrWVFnnuA",
        "outputId": "351fa10c-084d-43f3-a24c-b550128731be"
      },
      "execution_count": 103,
      "outputs": [
        {
          "output_type": "stream",
          "name": "stdout",
          "text": [
            "Model: \"sequential_16\"\n",
            "_________________________________________________________________\n",
            " Layer (type)                Output Shape              Param #   \n",
            "=================================================================\n",
            " embedding_4 (Embedding)     (None, 17, 200)           357000    \n",
            "                                                                 \n",
            " lstm_2 (LSTM)               (None, 200)               320800    \n",
            "                                                                 \n",
            " dense_11 (Dense)            (None, 1)                 201       \n",
            "                                                                 \n",
            "=================================================================\n",
            "Total params: 678,001\n",
            "Trainable params: 321,001\n",
            "Non-trainable params: 357,000\n",
            "_________________________________________________________________\n"
          ]
        }
      ]
    },
    {
      "cell_type": "code",
      "source": [
        "test=\"the effect of heart failure on mortality of pregnant females through the third semaster\"\n",
        "sequences = tokenizer.texts_to_sequences([test])\n",
        "padded = pad_sequences(sequences, maxlen=max_len, padding=\"post\", truncating=\"post\")"
      ],
      "metadata": {
        "id": "R21D4sSgoFCW"
      },
      "execution_count": 121,
      "outputs": []
    },
    {
      "cell_type": "code",
      "source": [
        "pred = model.predict(padded)\n",
        "pred_int = pred.round().astype(\"int\")"
      ],
      "metadata": {
        "id": "jnV0AQkbo7FQ"
      },
      "execution_count": 122,
      "outputs": []
    },
    {
      "cell_type": "code",
      "source": [
        "pred_int"
      ],
      "metadata": {
        "colab": {
          "base_uri": "https://localhost:8080/"
        },
        "id": "sq3C46ROpEV2",
        "outputId": "0eadf605-84e3-4a87-cc0c-cdf011cd57e3"
      },
      "execution_count": 123,
      "outputs": [
        {
          "output_type": "execute_result",
          "data": {
            "text/plain": [
              "array([[0]])"
            ]
          },
          "metadata": {},
          "execution_count": 123
        }
      ]
    },
    {
      "cell_type": "code",
      "source": [
        "#if it was relevant it returns 1 and if not it returns zero
        "#it returns zero so that's true because it's not relevant :)"
      ],
      "metadata": {
        "id": "p_RuVXccqWmG"
      },
      "execution_count": null,
      "outputs": []
    }
  ]
}
