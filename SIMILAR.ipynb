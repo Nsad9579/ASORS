{
  "nbformat": 4,
  "nbformat_minor": 0,
  "metadata": {
    "colab": {
      "name": "SIMILAR.ipynb",
      "provenance": [],
      "authorship_tag": "ABX9TyMUw7g6gBzQdzyq/c7EYKCd",
      "include_colab_link": true
    },
    "kernelspec": {
      "name": "python3",
      "display_name": "Python 3"
    },
    "language_info": {
      "name": "python"
    }
  },
  "cells": [
    {
      "cell_type": "markdown",
      "metadata": {
        "id": "view-in-github",
        "colab_type": "text"
      },
      "source": [
        "<a href=\"https://colab.research.google.com/github/Nsad9579/ASORS/blob/main/SIMILAR.ipynb\" target=\"_parent\"><img src=\"https://colab.research.google.com/assets/colab-badge.svg\" alt=\"Open In Colab\"/></a>"
      ]
    },
    {
      "cell_type": "markdown",
      "source": [
        "# Smilarity Project\n",
        "find the Cheater ☝⏱\n",
        "\n",
        "For this project, I compare my answers to one of my classmates' answers to a 3-question exam."
      ],
      "metadata": {
        "id": "yOpLvUqF6Ee8"
      }
    },
    {
      "cell_type": "markdown",
      "source": [
        "## Import packages"
      ],
      "metadata": {
        "id": "JpnOaRKY7JAB"
      }
    },
    {
      "cell_type": "code",
      "execution_count": null,
      "metadata": {
        "id": "yrcjlvwSRa9r"
      },
      "outputs": [],
      "source": [
        "!pip install nltk\n",
        "!pip install hazm\n",
        "!pip install sentence_transformers\n",
        "!pip install transformers\n",
        "!pip install handcalcs\n",
        "!pip install stopwords_guilannlp"
      ]
    },
    {
      "cell_type": "code",
      "source": [
        "from string import punctuation\n",
        "import torch\n",
        "import re\n",
        "import pandas as pd\n",
        "from keras.utils.np_utils import to_categorical\n",
        "from transformers import AutoConfig, AutoModel , AutoTokenizer\n",
        "from keras.callbacks import EarlyStopping\n",
        "from keras.layers import Dropout\n",
        "from sklearn.metrics import classification_report, confusion_matrix\n",
        "from hazm import *\n",
        "from stopwords_guilannlp import *\n",
        "from nltk.tokenize import RegexpTokenizer\n",
        "import numpy as np\n",
        "import math\n",
        "import handcalcs.render\n",
        "from mpl_toolkits.axes_grid1 import make_axes_locatable\n",
        "from copy import deepcopy\n",
        "from string import punctuation\n",
        "import random"
      ],
      "metadata": {
        "id": "APP-fohWYSKl"
      },
      "execution_count": 20,
      "outputs": []
    },
    {
      "cell_type": "markdown",
      "source": [
        "## Data"
      ],
      "metadata": {
        "id": "PlgPnyXVesV2"
      }
    },
    {
      "cell_type": "code",
      "source": [
        "with open('/content/NS_Q1.txt') as f:\n",
        "    NS_Q1 = f.read()\n",
        "with open('/content/AA_Q1.txt') as l:\n",
        "    AA_Q1 = l.read()\n",
        "with open('/content/NS_Q2.txt') as f:\n",
        "    NS_Q2 = f.read()\n",
        "with open('/content/AA_Q2.txt') as l:\n",
        "    AA_Q2 = l.read()\n",
        "with open('/content/NS_Q3.txt') as f:\n",
        "    NS_Q3 = f.read()\n",
        "with open('/content/AA_Q3.txt') as l:\n",
        "    AA_Q3 = l.read()"
      ],
      "metadata": {
        "id": "TrDrL3kFeuXU"
      },
      "execution_count": 10,
      "outputs": []
    },
    {
      "cell_type": "markdown",
      "source": [
        "## Preprocessing"
      ],
      "metadata": {
        "id": "g44xuu0QepbT"
      }
    },
    {
      "cell_type": "code",
      "source": [
        "lemmatizer = Lemmatizer()\n",
        "stemmer = Stemmer()\n",
        "stopwords = stopwords_output(\"Persian\", \"nar\")\n",
        "\n",
        "def preprocessing(text):\n",
        "    \n",
        "    text = re.sub('<[^<]+?>','', text)\n",
        "    text = re.sub('[a-zA-Z0-9]','', text)\n",
        "    text = ''.join(c for c in text if not c.isdigit())\n",
        "    text = ''.join(c for c in text if c not in punctuation)\n",
        "    text = ' '.join(stemmer.stem(word) for word in text.split() if word not in stopwords) # remove stopwors from text\n",
        "    text = ' '.join(lemmatizer.lemmatize(word) for word in text.split())\n",
        "    return text\n"
      ],
      "metadata": {
        "id": "OcMRqiKqoNKT"
      },
      "execution_count": 11,
      "outputs": []
    },
    {
      "cell_type": "code",
      "source": [
        "A1sent=preprocessing(NS_Q1)\n",
        "B1sent=preprocessing(AA_Q1)\n",
        "A2sent=preprocessing(NS_Q2)\n",
        "B2sent=preprocessing(AA_Q2)\n",
        "A3sent=preprocessing(NS_Q3)\n",
        "B3sent=preprocessing(AA_Q3)"
      ],
      "metadata": {
        "id": "QxlD-KQMutIB"
      },
      "execution_count": 12,
      "outputs": []
    },
    {
      "cell_type": "markdown",
      "source": [
        "## Word embedding\n",
        "\n",
        "I used ParsBert for this part."
      ],
      "metadata": {
        "id": "DrRfUogohm58"
      }
    },
    {
      "cell_type": "code",
      "source": [
        ""
      ],
      "metadata": {
        "id": "exQSSFPGRNuw"
      },
      "execution_count": null,
      "outputs": []
    },
    {
      "cell_type": "code",
      "source": [
        "config = AutoConfig.from_pretrained(\"HooshvareLab/bert-base-parsbert-uncased\")\n",
        "tokenizer = AutoTokenizer.from_pretrained(\"HooshvareLab/bert-base-parsbert-uncased\")\n",
        "model = AutoModel.from_pretrained(\"HooshvareLab/bert-base-parsbert-uncased\")"
      ],
      "metadata": {
        "id": "QKzXPrydhHYe"
      },
      "execution_count": null,
      "outputs": []
    },
    {
      "cell_type": "markdown",
      "source": [
        "## Calculating the similarity\n",
        "for each question, I calculated the similarity between my answer and my classmate's answer with two different methods **cosine similarity** and **eucleadian distance** .\n",
        "\n",
        "\n",
        " **![cosine.png](data:image/png;base64,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)\n",
        "\n",
        "\n"
      ],
      "metadata": {
        "id": "WOBbXl7Z1S-z"
      }
    },
    {
      "cell_type": "code",
      "source": [
        "A1input_ids=torch.tensor(tokenizer.encode(A1sent)).unsqueeze(0)\n",
        "B1input_ids=torch.tensor(tokenizer.encode(B1sent)).unsqueeze(0)\n",
        "A2input_ids=torch.tensor(tokenizer.encode(A2sent)).unsqueeze(0)\n",
        "B2input_ids=torch.tensor(tokenizer.encode(B2sent)).unsqueeze(0)\n",
        "A3input_ids=torch.tensor(tokenizer.encode(A3sent)).unsqueeze(0)\n",
        "B3input_ids=torch.tensor(tokenizer.encode(B3sent)).unsqueeze(0)"
      ],
      "metadata": {
        "id": "IQ3-lBLHmBIq"
      },
      "execution_count": 21,
      "outputs": []
    },
    {
      "cell_type": "code",
      "source": [
        "A1outputs=model(A1input_ids)\n",
        "A1=A1outputs['pooler_output']\n",
        "B1outputs=model(B1input_ids)\n",
        "B1=B1outputs['pooler_output']\n",
        "A2outputs=model(A2input_ids)\n",
        "A2=A2outputs['pooler_output']\n",
        "B2outputs=model(B2input_ids)\n",
        "B2=B2outputs['pooler_output']\n",
        "A3outputs=model(A3input_ids)\n",
        "A3=A3outputs['pooler_output']\n",
        "B3outputs=model(B3input_ids)\n",
        "B3=B3outputs['pooler_output']"
      ],
      "metadata": {
        "id": "vZYQirmponUH"
      },
      "execution_count": 22,
      "outputs": []
    },
    {
      "cell_type": "markdown",
      "source": [
        "### Using Cosine Similarity"
      ],
      "metadata": {
        "id": "MMcGkwbzva3Q"
      }
    },
    {
      "cell_type": "code",
      "source": [
        "cosine=torch.nn.CosineSimilarity(dim=1)\n",
        "output1 = cosine(A1, B1)\n",
        "output2 = cosine(A2, B2)\n",
        "output3 = cosine(A3, B3)\n",
        "print(\"Cosine Similarity for Question 1 :\",output1 ,'\\n' \n",
        "      ,\"Cosine Similarity for Question 2:\",output2 ,'\\n' \n",
        "      , \"Cosine Similarity for Question 3:\",output3 )"
      ],
      "metadata": {
        "colab": {
          "base_uri": "https://localhost:8080/"
        },
        "id": "XQMBV7pzuHbl",
        "outputId": "2dac51de-b582-460b-cf30-1ff3fb9982ec"
      },
      "execution_count": 23,
      "outputs": [
        {
          "output_type": "stream",
          "name": "stdout",
          "text": [
            "Cosine Similarity for Question 1 : tensor([0.8882], grad_fn=<SumBackward1>) \n",
            " Cosine Similarity for Question 2: tensor([0.9548], grad_fn=<SumBackward1>) \n",
            " Cosine Similarity for Question 3: tensor([0.8363], grad_fn=<SumBackward1>)\n"
          ]
        }
      ]
    },
    {
      "cell_type": "markdown",
      "source": [
        "### Euclidean Distance"
      ],
      "metadata": {
        "id": "S05cPfscvqlS"
      }
    },
    {
      "cell_type": "code",
      "source": [
        "ED1=torch.sqrt(torch.sum(torch.pow(torch.sub(A1, B1), 2)))\n",
        "ED2=torch.sqrt(torch.sum(torch.pow(torch.sub(A2, B2), 2)))\n",
        "ED3=torch.sqrt(torch.sum(torch.pow(torch.sub(A3, B3), 2)))\n",
        "print(\"Euclidean Distance for Question 1 :\",ED1 , '\\n' \n",
        "      ,\"Euclidean Distance for Question 2:\", ED2,'\\n' \n",
        "      , \"Euclidean Distance for Question 3:\",ED3 )"
      ],
      "metadata": {
        "colab": {
          "base_uri": "https://localhost:8080/"
        },
        "id": "pxOE4innvp2x",
        "outputId": "3adccad0-17bf-44bf-b1cc-efac19ad43e9"
      },
      "execution_count": 24,
      "outputs": [
        {
          "output_type": "stream",
          "name": "stdout",
          "text": [
            "Euclidean Distance for Question 1 : tensor(7.5726, grad_fn=<SqrtBackward0>) \n",
            " Euclidean Distance for Question 2: tensor(4.9284, grad_fn=<SqrtBackward0>) \n",
            " Euclidean Distance for Question 3: tensor(8.7377, grad_fn=<SqrtBackward0>)\n"
          ]
        }
      ]
    },
    {
      "cell_type": "code",
      "source": [
        ""
      ],
      "metadata": {
        "id": "2_N_dtXsDNUg"
      },
      "execution_count": null,
      "outputs": []
    }
  ]
}