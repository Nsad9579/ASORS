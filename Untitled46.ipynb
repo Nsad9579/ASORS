{
  "nbformat": 4,
  "nbformat_minor": 0,
  "metadata": {
    "colab": {
      "name": "Untitled46.ipynb",
      "provenance": [],
      "authorship_tag": "ABX9TyPowSepdsFBOHQQGPikJaR2",
      "include_colab_link": true
    },
    "kernelspec": {
      "name": "python3",
      "display_name": "Python 3"
    },
    "language_info": {
      "name": "python"
    },
    "widgets": {
      "application/vnd.jupyter.widget-state+json": {
        "3575500a545743b8982678788af74b89": {
          "model_module": "@jupyter-widgets/controls",
          "model_name": "VBoxModel",
          "model_module_version": "1.5.0",
          "state": {
            "_dom_classes": [
              "widget-interact"
            ],
            "_model_module": "@jupyter-widgets/controls",
            "_model_module_version": "1.5.0",
            "_model_name": "VBoxModel",
            "_view_count": null,
            "_view_module": "@jupyter-widgets/controls",
            "_view_module_version": "1.5.0",
            "_view_name": "VBoxView",
            "box_style": "",
            "children": [
              "IPY_MODEL_83666e07a58d43ef885b621167d3ef5a",
              "IPY_MODEL_ef322fc6e06b4420a6ac3dda9cf75254"
            ],
            "layout": "IPY_MODEL_f495da7456a94088b41835bb14099dff"
          }
        },
        "83666e07a58d43ef885b621167d3ef5a": {
          "model_module": "@jupyter-widgets/controls",
          "model_name": "FloatSliderModel",
          "model_module_version": "1.5.0",
          "state": {
            "_dom_classes": [],
            "_model_module": "@jupyter-widgets/controls",
            "_model_module_version": "1.5.0",
            "_model_name": "FloatSliderModel",
            "_view_count": null,
            "_view_module": "@jupyter-widgets/controls",
            "_view_module_version": "1.5.0",
            "_view_name": "FloatSliderView",
            "continuous_update": true,
            "description": "w",
            "description_tooltip": null,
            "disabled": false,
            "layout": "IPY_MODEL_79e0b1e76b154241bbdf6ae96824b3d8",
            "max": 5,
            "min": 0,
            "orientation": "horizontal",
            "readout": true,
            "readout_format": ".2f",
            "step": 0.5,
            "style": "IPY_MODEL_64d6224d18a247cd8e003860684fd11a",
            "value": 4
          }
        },
        "ef322fc6e06b4420a6ac3dda9cf75254": {
          "model_module": "@jupyter-widgets/output",
          "model_name": "OutputModel",
          "model_module_version": "1.0.0",
          "state": {
            "_dom_classes": [],
            "_model_module": "@jupyter-widgets/output",
            "_model_module_version": "1.0.0",
            "_model_name": "OutputModel",
            "_view_count": null,
            "_view_module": "@jupyter-widgets/output",
            "_view_module_version": "1.0.0",
            "_view_name": "OutputView",
            "layout": "IPY_MODEL_8432b4ec2e7b4727ba6bc6b8affd6eb5",
            "msg_id": "",
            "outputs": [
              {
                "output_type": "display_data",
                "data": {
                  "text/plain": "<Figure size 432x288 with 1 Axes>",
                  "image/png": "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\n"
                },
                "metadata": {
                  "needs_background": "light"
                }
              }
            ]
          }
        },
        "f495da7456a94088b41835bb14099dff": {
          "model_module": "@jupyter-widgets/base",
          "model_name": "LayoutModel",
          "model_module_version": "1.2.0",
          "state": {
            "_model_module": "@jupyter-widgets/base",
            "_model_module_version": "1.2.0",
            "_model_name": "LayoutModel",
            "_view_count": null,
            "_view_module": "@jupyter-widgets/base",
            "_view_module_version": "1.2.0",
            "_view_name": "LayoutView",
            "align_content": null,
            "align_items": null,
            "align_self": null,
            "border": null,
            "bottom": null,
            "display": null,
            "flex": null,
            "flex_flow": null,
            "grid_area": null,
            "grid_auto_columns": null,
            "grid_auto_flow": null,
            "grid_auto_rows": null,
            "grid_column": null,
            "grid_gap": null,
            "grid_row": null,
            "grid_template_areas": null,
            "grid_template_columns": null,
            "grid_template_rows": null,
            "height": null,
            "justify_content": null,
            "justify_items": null,
            "left": null,
            "margin": null,
            "max_height": null,
            "max_width": null,
            "min_height": null,
            "min_width": null,
            "object_fit": null,
            "object_position": null,
            "order": null,
            "overflow": null,
            "overflow_x": null,
            "overflow_y": null,
            "padding": null,
            "right": null,
            "top": null,
            "visibility": null,
            "width": null
          }
        },
        "79e0b1e76b154241bbdf6ae96824b3d8": {
          "model_module": "@jupyter-widgets/base",
          "model_name": "LayoutModel",
          "model_module_version": "1.2.0",
          "state": {
            "_model_module": "@jupyter-widgets/base",
            "_model_module_version": "1.2.0",
            "_model_name": "LayoutModel",
            "_view_count": null,
            "_view_module": "@jupyter-widgets/base",
            "_view_module_version": "1.2.0",
            "_view_name": "LayoutView",
            "align_content": null,
            "align_items": null,
            "align_self": null,
            "border": null,
            "bottom": null,
            "display": null,
            "flex": null,
            "flex_flow": null,
            "grid_area": null,
            "grid_auto_columns": null,
            "grid_auto_flow": null,
            "grid_auto_rows": null,
            "grid_column": null,
            "grid_gap": null,
            "grid_row": null,
            "grid_template_areas": null,
            "grid_template_columns": null,
            "grid_template_rows": null,
            "height": null,
            "justify_content": null,
            "justify_items": null,
            "left": null,
            "margin": null,
            "max_height": null,
            "max_width": null,
            "min_height": null,
            "min_width": null,
            "object_fit": null,
            "object_position": null,
            "order": null,
            "overflow": null,
            "overflow_x": null,
            "overflow_y": null,
            "padding": null,
            "right": null,
            "top": null,
            "visibility": null,
            "width": null
          }
        },
        "64d6224d18a247cd8e003860684fd11a": {
          "model_module": "@jupyter-widgets/controls",
          "model_name": "SliderStyleModel",
          "model_module_version": "1.5.0",
          "state": {
            "_model_module": "@jupyter-widgets/controls",
            "_model_module_version": "1.5.0",
            "_model_name": "SliderStyleModel",
            "_view_count": null,
            "_view_module": "@jupyter-widgets/base",
            "_view_module_version": "1.2.0",
            "_view_name": "StyleView",
            "description_width": "",
            "handle_color": null
          }
        },
        "8432b4ec2e7b4727ba6bc6b8affd6eb5": {
          "model_module": "@jupyter-widgets/base",
          "model_name": "LayoutModel",
          "model_module_version": "1.2.0",
          "state": {
            "_model_module": "@jupyter-widgets/base",
            "_model_module_version": "1.2.0",
            "_model_name": "LayoutModel",
            "_view_count": null,
            "_view_module": "@jupyter-widgets/base",
            "_view_module_version": "1.2.0",
            "_view_name": "LayoutView",
            "align_content": null,
            "align_items": null,
            "align_self": null,
            "border": null,
            "bottom": null,
            "display": null,
            "flex": null,
            "flex_flow": null,
            "grid_area": null,
            "grid_auto_columns": null,
            "grid_auto_flow": null,
            "grid_auto_rows": null,
            "grid_column": null,
            "grid_gap": null,
            "grid_row": null,
            "grid_template_areas": null,
            "grid_template_columns": null,
            "grid_template_rows": null,
            "height": null,
            "justify_content": null,
            "justify_items": null,
            "left": null,
            "margin": null,
            "max_height": null,
            "max_width": null,
            "min_height": null,
            "min_width": null,
            "object_fit": null,
            "object_position": null,
            "order": null,
            "overflow": null,
            "overflow_x": null,
            "overflow_y": null,
            "padding": null,
            "right": null,
            "top": null,
            "visibility": null,
            "width": null
          }
        }
      }
    }
  },
  "cells": [
    {
      "cell_type": "markdown",
      "metadata": {
        "id": "view-in-github",
        "colab_type": "text"
      },
      "source": [
        "<a href=\"https://colab.research.google.com/github/Nsad9579/ASORS/blob/main/Untitled46.ipynb\" target=\"_parent\"><img src=\"https://colab.research.google.com/assets/colab-badge.svg\" alt=\"Open In Colab\"/></a>"
      ]
    },
    {
      "cell_type": "code",
      "execution_count": 19,
      "metadata": {
        "id": "Bn45aRQz13G5"
      },
      "outputs": [],
      "source": [
        "import ipywidgets \n",
        "import numpy as np \n",
        "import matplotlib.pyplot as plt\n",
        "\n",
        "def plot_plot(w=1):\n",
        "  x=np.random.uniform(0,5,size=100)\n",
        "  y=x**2 +x+ w * np.random.uniform(100)\n",
        "  plt.scatter(x,y)\n"
      ]
    },
    {
      "cell_type": "code",
      "source": [
        "ipywidgets.interact(plot_plot,w=(0,5,0.5))"
      ],
      "metadata": {
        "colab": {
          "base_uri": "https://localhost:8080/",
          "height": 317,
          "referenced_widgets": [
            "3575500a545743b8982678788af74b89",
            "83666e07a58d43ef885b621167d3ef5a",
            "ef322fc6e06b4420a6ac3dda9cf75254",
            "f495da7456a94088b41835bb14099dff",
            "79e0b1e76b154241bbdf6ae96824b3d8",
            "64d6224d18a247cd8e003860684fd11a",
            "8432b4ec2e7b4727ba6bc6b8affd6eb5"
          ]
        },
        "id": "825ScljDzqHV",
        "outputId": "c6e21cc2-0268-4bce-98ef-f25eb1ab53f4"
      },
      "execution_count": 20,
      "outputs": [
        {
          "output_type": "display_data",
          "data": {
            "text/plain": [
              "interactive(children=(FloatSlider(value=1.0, description='w', max=5.0, step=0.5), Output()), _dom_classes=('wi…"
            ],
            "application/vnd.jupyter.widget-view+json": {
              "version_major": 2,
              "version_minor": 0,
              "model_id": "3575500a545743b8982678788af74b89"
            }
          },
          "metadata": {}
        },
        {
          "output_type": "execute_result",
          "data": {
            "text/plain": [
              "<function __main__.plot_plot>"
            ]
          },
          "metadata": {},
          "execution_count": 20
        }
      ]
    },
    {
      "cell_type": "code",
      "source": [
        ""
      ],
      "metadata": {
        "id": "vTa18vPLIpqX"
      },
      "execution_count": null,
      "outputs": []
    }
  ]
}